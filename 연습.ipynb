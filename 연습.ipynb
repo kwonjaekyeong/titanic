{
 "cells": [
  {
   "cell_type": "markdown",
   "metadata": {},
   "source": [
    "## format"
   ]
  },
  {
   "cell_type": "code",
   "execution_count": 1,
   "metadata": {},
   "outputs": [
    {
     "name": "stdout",
     "output_type": "stream",
     "text": [
      "20 번 손님 환영합니다\n"
     ]
    }
   ],
   "source": [
    "number = 20\n",
    "welcome = '환영합니다'\n",
    "base = '{} 번 손님 {}'\n",
    "\n",
    "# 아래 3개의 print는 같은 값을 출력\n",
    "print(number, '번 손님', welcome)"
   ]
  },
  {
   "cell_type": "code",
   "execution_count": 2,
   "metadata": {},
   "outputs": [
    {
     "name": "stdout",
     "output_type": "stream",
     "text": [
      "20 번 손님 환영합니다\n"
     ]
    }
   ],
   "source": [
    "print(base.format(number, welcome))"
   ]
  },
  {
   "cell_type": "code",
   "execution_count": 3,
   "metadata": {},
   "outputs": [
    {
     "name": "stdout",
     "output_type": "stream",
     "text": [
      "20 번 손님 환영합니다\n"
     ]
    }
   ],
   "source": [
    "print('{} 번 손님 {}'.format(number, welcome))"
   ]
  },
  {
   "cell_type": "markdown",
   "metadata": {},
   "source": [
    "## Skewness(왜도)와 Kurtosis(첨도)"
   ]
  },
  {
   "cell_type": "markdown",
   "metadata": {},
   "source": [
    "- 데이터 분석에서 Skewness(왜도)와 Kurtosis(첨도)는 중요한 요소이다.\n",
    "\n",
    "- Skewness(왜도) : 데이터 분포가 한 쪽으로 쏠리는 것\n",
    "  - Positive Skewness => 오른쪽에 꼬리를 가진(왼쪽에 데이터가 많은) 형태 \n",
    "  - Negative Skewness는 => 왼쪽에 꼬리를 가진(오른쪽에 데이터가 많은) 형태\n",
    "  ex) -2 미만은 Negative Skew, +2 초과는 Positive Skew.\n",
    "  \n",
    "- Kurtosis(첨도) : 분포의 뾰족함이나 평평함에 관련된 것이 아니라 분포의 tail에 대한 모든 것"
   ]
  },
  {
   "cell_type": "code",
   "execution_count": 4,
   "metadata": {},
   "outputs": [],
   "source": [
    "# 데이터 분석시 log를 취하는 이유\n",
    "# => 데이터 간 편차를 줄여, 왜도(skewness)와 첨도(Kurtosis)를 줄일 수 있으므로\n",
    "#   정규성이 높아짐"
   ]
  },
  {
   "cell_type": "code",
   "execution_count": null,
   "metadata": {},
   "outputs": [],
   "source": []
  }
 ],
 "metadata": {
  "kernelspec": {
   "display_name": "Python 3",
   "language": "python",
   "name": "python3"
  },
  "language_info": {
   "codemirror_mode": {
    "name": "ipython",
    "version": 3
   },
   "file_extension": ".py",
   "mimetype": "text/x-python",
   "name": "python",
   "nbconvert_exporter": "python",
   "pygments_lexer": "ipython3",
   "version": "3.7.4"
  }
 },
 "nbformat": 4,
 "nbformat_minor": 2
}
